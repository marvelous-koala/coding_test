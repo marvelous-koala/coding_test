{
 "cells": [
  {
   "cell_type": "code",
   "execution_count": 1,
   "metadata": {
    "ExecuteTime": {
     "end_time": "2021-03-18T13:22:53.629229Z",
     "start_time": "2021-03-18T13:22:53.618227Z"
    },
    "executionInfo": {
     "elapsed": 863,
     "status": "ok",
     "timestamp": 1616072996263,
     "user": {
      "displayName": "‍최명진(사회과학대학 사회복지학과)",
      "photoUrl": "",
      "userId": "07688453603143010105"
     },
     "user_tz": -540
    },
    "id": "IAzUhMDtdAFk"
   },
   "outputs": [],
   "source": [
    "import sys"
   ]
  },
  {
   "cell_type": "code",
   "execution_count": 5,
   "metadata": {
    "ExecuteTime": {
     "end_time": "2021-03-18T13:23:47.128401Z",
     "start_time": "2021-03-18T13:23:47.122399Z"
    },
    "executionInfo": {
     "elapsed": 868,
     "status": "ok",
     "timestamp": 1616073035516,
     "user": {
      "displayName": "‍최명진(사회과학대학 사회복지학과)",
      "photoUrl": "",
      "userId": "07688453603143010105"
     },
     "user_tz": -540
    },
    "id": "l3KYUROOdPTI"
   },
   "outputs": [],
   "source": [
    "sys.stdin = open(\"sample_input.txt\", \"r\")"
   ]
  },
  {
   "cell_type": "code",
   "execution_count": 6,
   "metadata": {
    "ExecuteTime": {
     "end_time": "2021-03-18T13:24:47.849965Z",
     "start_time": "2021-03-18T13:24:47.052787Z"
    },
    "colab": {
     "base_uri": "https://localhost:8080/"
    },
    "executionInfo": {
     "elapsed": 974,
     "status": "ok",
     "timestamp": 1616073230900,
     "user": {
      "displayName": "‍최명진(사회과학대학 사회복지학과)",
      "photoUrl": "",
      "userId": "07688453603143010105"
     },
     "user_tz": -540
    },
    "id": "dUsK3RR2dZd9",
    "outputId": "872d3cb7-f435-4c50-e4c9-1cd3f5051ca1"
   },
   "outputs": [
    {
     "name": "stdout",
     "output_type": "stream",
     "text": [
      "d\n"
     ]
    },
    {
     "ename": "ValueError",
     "evalue": "invalid literal for int() with base 10: 'd'",
     "output_type": "error",
     "traceback": [
      "\u001b[1;31m---------------------------------------------------------------------------\u001b[0m",
      "\u001b[1;31mValueError\u001b[0m                                Traceback (most recent call last)",
      "\u001b[1;32m<ipython-input-6-c2165c43b7e4>\u001b[0m in \u001b[0;36m<module>\u001b[1;34m\u001b[0m\n\u001b[1;32m----> 1\u001b[1;33m \u001b[0mT\u001b[0m \u001b[1;33m=\u001b[0m \u001b[0mint\u001b[0m\u001b[1;33m(\u001b[0m\u001b[0minput\u001b[0m\u001b[1;33m(\u001b[0m\u001b[1;33m)\u001b[0m\u001b[1;33m)\u001b[0m\u001b[1;33m\u001b[0m\u001b[1;33m\u001b[0m\u001b[0m\n\u001b[0m",
      "\u001b[1;31mValueError\u001b[0m: invalid literal for int() with base 10: 'd'"
     ]
    }
   ],
   "source": [
    "T = int(input())"
   ]
  }
 ],
 "metadata": {
  "colab": {
   "authorship_tag": "ABX9TyPjnyPzjm7/kPSeLazJ7mEm",
   "collapsed_sections": [],
   "machine_shape": "hm",
   "mount_file_id": "1uHNFrh1hE-eP7ruwbCzpRxNnhvF-IUxs",
   "name": "SW.ipynb",
   "provenance": []
  },
  "kernelspec": {
   "display_name": "Python 3",
   "language": "python",
   "name": "python3"
  },
  "language_info": {
   "codemirror_mode": {
    "name": "ipython",
    "version": 3
   },
   "file_extension": ".py",
   "mimetype": "text/x-python",
   "name": "python",
   "nbconvert_exporter": "python",
   "pygments_lexer": "ipython3",
   "version": "3.8.5"
  }
 },
 "nbformat": 4,
 "nbformat_minor": 1
}
